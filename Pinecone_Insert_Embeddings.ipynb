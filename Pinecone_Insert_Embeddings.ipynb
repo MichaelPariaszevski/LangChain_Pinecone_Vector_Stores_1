{
 "cells": [
  {
   "cell_type": "markdown",
   "metadata": {},
   "source": [
    "Inserting the Embeddings into a Pinecone Index"
   ]
  },
  {
   "cell_type": "code",
   "execution_count": 4,
   "metadata": {},
   "outputs": [],
   "source": [
    "import pinecone  \n",
    "from langchain_community.vectorstores import Pinecone "
   ]
  },
  {
   "cell_type": "code",
   "execution_count": 5,
   "metadata": {},
   "outputs": [],
   "source": [
    "pc=pinecone.Pinecone()"
   ]
  },
  {
   "cell_type": "code",
   "execution_count": 8,
   "metadata": {},
   "outputs": [
    {
     "name": "stdout",
     "output_type": "stream",
     "text": [
      "Done\n"
     ]
    }
   ],
   "source": [
    "for i in pc.list_indexes().names(): \n",
    "    print(\"Deleting all indexes ... \", end=\"\")\n",
    "    pc.delete_index(i)\n",
    "\n",
    "print(\"Done\")"
   ]
  },
  {
   "cell_type": "code",
   "execution_count": 9,
   "metadata": {},
   "outputs": [
    {
     "name": "stdout",
     "output_type": "stream",
     "text": [
      "Creating index churchill-speech ... \n",
      "Done\n"
     ]
    }
   ],
   "source": [
    "index_name=\"churchill-speech\" \n",
    "\n",
    "if index_name not in pc.list_indexes().names(): \n",
    "    print(f\"Creating index {index_name} ... \")\n",
    "    pc.create_index(name=index_name, dimension=1536, metric=\"cosine\", spec=pinecone.PodSpec(environment=\"gcp-starter\"))\n",
    "\n",
    "print(\"Done\")"
   ]
  },
  {
   "cell_type": "code",
   "execution_count": 36,
   "metadata": {},
   "outputs": [],
   "source": [
    "# import import_ipynb\n",
    "# import Pinecone_Splitting_and_Embedding \n",
    "# from Pinecone_Splitting_and_Embedding import chunks\n",
    "\n",
    "# Install ipynb (pip install ipynb)\n",
    "\n",
    "from ipynb.fs.full.Pinecone_Splitting_and_Embedding import chunks, embedding"
   ]
  },
  {
   "cell_type": "code",
   "execution_count": 37,
   "metadata": {},
   "outputs": [],
   "source": [
    "vector_store=Pinecone.from_documents(chunks, embedding, index_name=index_name)"
   ]
  },
  {
   "cell_type": "code",
   "execution_count": 38,
   "metadata": {},
   "outputs": [],
   "source": [
    "# This loads the vector store from an existing index\n",
    "\n",
    "vector_store=Pinecone.from_existing_index(index_name=\"churchill-speech\", embedding=embedding)"
   ]
  },
  {
   "cell_type": "markdown",
   "metadata": {},
   "source": [
    "Similarity Search (Asking Questions of Documents)"
   ]
  },
  {
   "cell_type": "code",
   "execution_count": 41,
   "metadata": {},
   "outputs": [
    {
     "name": "stdout",
     "output_type": "stream",
     "text": [
      "[Document(page_content='We shall fight in the fields and in the streets,\\nWe shall fight in the hills;'), Document(page_content='We shall fight on the beaches,\\nWe shall fight on the landing grounds,'), Document(page_content='We shall fight with growing confidence and growing strength in the air, we shall defend our Island,'), Document(page_content='We shall go on to the end, we shall fight in France,\\nWe shall fight on the seas and oceans,')]\n"
     ]
    }
   ],
   "source": [
    "query=\"Where should we fight?\" \n",
    "\n",
    "result=vector_store.similarity_search(query) \n",
    "\n",
    "print(result)"
   ]
  },
  {
   "cell_type": "code",
   "execution_count": 43,
   "metadata": {},
   "outputs": [
    {
     "name": "stdout",
     "output_type": "stream",
     "text": [
      "We shall fight in the fields and in the streets,\n",
      "We shall fight in the hills;\n",
      "--------------------------------------------------\n",
      "We shall fight on the beaches,\n",
      "We shall fight on the landing grounds,\n",
      "--------------------------------------------------\n",
      "We shall fight with growing confidence and growing strength in the air, we shall defend our Island,\n",
      "--------------------------------------------------\n",
      "We shall go on to the end, we shall fight in France,\n",
      "We shall fight on the seas and oceans,\n",
      "--------------------------------------------------\n"
     ]
    }
   ],
   "source": [
    "for c in result: \n",
    "    print(c.page_content) \n",
    "    print(\"-\"*50)"
   ]
  },
  {
   "cell_type": "code",
   "execution_count": 44,
   "metadata": {},
   "outputs": [],
   "source": [
    "from langchain.chains import RetrievalQA \n",
    "from langchain_openai import ChatOpenAI \n",
    "\n",
    "llm=ChatOpenAI(model=\"gpt-3.5-turbo\", temperature=1) \n",
    "\n",
    "retriever=vector_store.as_retriever(search_type=\"similarity\", search_kwargs={\"k\": 3}) \n",
    "\n",
    "chain=RetrievalQA.from_chain_type(llm=llm, chain_type=\"stuff\", retriever=retriever)"
   ]
  },
  {
   "cell_type": "code",
   "execution_count": 45,
   "metadata": {},
   "outputs": [
    {
     "name": "stderr",
     "output_type": "stream",
     "text": [
      "c:\\Users\\mpari\\anaconda3\\envs\\LangChain_Laptop_1_venv\\lib\\site-packages\\langchain_core\\_api\\deprecation.py:139: LangChainDeprecationWarning: The method `Chain.run` was deprecated in langchain 0.1.0 and will be removed in 0.3.0. Use invoke instead.\n",
      "  warn_deprecated(\n"
     ]
    },
    {
     "name": "stdout",
     "output_type": "stream",
     "text": [
      "We should fight in the fields, streets, hills, beaches, and landing grounds.\n"
     ]
    }
   ],
   "source": [
    "answer=chain.run(query) \n",
    "\n",
    "print(answer)"
   ]
  },
  {
   "cell_type": "code",
   "execution_count": 48,
   "metadata": {},
   "outputs": [
    {
     "name": "stdout",
     "output_type": "stream",
     "text": [
      "I don't know the exact time frame you're referring to, so I cannot provide the specific answer about the king of Belgium at that time.\n"
     ]
    }
   ],
   "source": [
    "query_2=\"Who was the king of Belgium at that time?\" \n",
    "\n",
    "answer_2=chain.run(query_2) \n",
    "\n",
    "print(answer_2)"
   ]
  }
 ],
 "metadata": {
  "kernelspec": {
   "display_name": "LangChain_Laptop_1_venv",
   "language": "python",
   "name": "python3"
  },
  "language_info": {
   "codemirror_mode": {
    "name": "ipython",
    "version": 3
   },
   "file_extension": ".py",
   "mimetype": "text/x-python",
   "name": "python",
   "nbconvert_exporter": "python",
   "pygments_lexer": "ipython3",
   "version": "3.9.19"
  }
 },
 "nbformat": 4,
 "nbformat_minor": 2
}
